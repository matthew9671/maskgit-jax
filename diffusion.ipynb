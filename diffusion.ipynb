{
 "cells": [
  {
   "cell_type": "markdown",
   "id": "f06f5a90-cc46-4823-8da1-d63633e5d053",
   "metadata": {},
   "source": [
    "- [x] Instantiate a Transformer\n",
    "- [x] Evaluate ELBO\n",
    "- [ ] Hook up the trainer\n",
    "- [ ] Profit"
   ]
  },
  {
   "cell_type": "code",
   "execution_count": 1,
   "id": "d3ae3538-1636-415a-ab05-e8386be7e848",
   "metadata": {},
   "outputs": [],
   "source": [
    "import jax\n",
    "import jax.random as jr\n",
    "import jax.numpy as jnp\n",
    "\n",
    "Key = jr.PRNGKey"
   ]
  },
  {
   "cell_type": "code",
   "execution_count": 2,
   "id": "57cf934c-8b2b-4b43-b179-2bd0f8a326bc",
   "metadata": {},
   "outputs": [],
   "source": [
    "from maskgit.nets.maskgit_transformer import Transformer\n",
    "from maskgit.diffusion.losses import discrete_diffusion_loss_single\n",
    "from maskgit.diffusion.models import AbsorbingRate"
   ]
  },
  {
   "cell_type": "code",
   "execution_count": 3,
   "id": "7b2ec784-f4c4-461d-9591-11a003cfbf03",
   "metadata": {},
   "outputs": [],
   "source": [
    "import ml_collections"
   ]
  },
  {
   "cell_type": "code",
   "execution_count": 14,
   "id": "e352fd22-1b03-48df-ba7b-14a7f93591ea",
   "metadata": {},
   "outputs": [],
   "source": [
    "config = ml_collections.ConfigDict()\n",
    "\n",
    "config.codebook_size = 1024 + 1 # Caveat: conditional generation stuff\n",
    "config.transformer_block_size = 256 + 1 # seq length + 1?\n",
    "\n",
    "# Transformer configs\n",
    "config.transformer = ml_collections.ConfigDict()\n",
    "config.transformer.num_layers = 24\n",
    "config.transformer.patch_size = 16\n",
    "config.transformer.num_embeds = 768\n",
    "config.transformer.intermediate_size = 3072\n",
    "config.transformer.num_heads = 16\n",
    "config.transformer.dropout_rate = 0.1\n",
    "config.transformer.mask_token_id = -1\n",
    "config.transformer.latent_size = 16\n",
    "\n",
    "tcfg = config.transformer"
   ]
  },
  {
   "cell_type": "code",
   "execution_count": 15,
   "id": "e28ae86b-e043-4b33-8791-2e70501ed5ae",
   "metadata": {},
   "outputs": [],
   "source": [
    "model = Transformer(\n",
    "            vocab_size=config.codebook_size,\n",
    "            hidden_size=tcfg.num_embeds,\n",
    "            num_hidden_layers=tcfg.num_layers,\n",
    "            num_attention_heads=tcfg.num_heads,\n",
    "            intermediate_size=tcfg.intermediate_size,\n",
    "            hidden_dropout_prob=tcfg.dropout_rate,\n",
    "            attention_probs_dropout_prob=tcfg.dropout_rate,\n",
    "            max_position_embeddings=config.transformer_block_size)"
   ]
  },
  {
   "cell_type": "code",
   "execution_count": 7,
   "id": "78d99c02-ec56-4da9-aeac-cbd7d7cb37b7",
   "metadata": {},
   "outputs": [],
   "source": [
    "key_0 = jr.PRNGKey(0)\n",
    "\n",
    "dummy_input = jnp.zeros((256,), dtype=int)\n",
    "\n",
    "init_params = model.init(key_0, dummy_input)"
   ]
  },
  {
   "cell_type": "code",
   "execution_count": 30,
   "id": "985103fe-404c-423e-a0b3-74c492e037af",
   "metadata": {},
   "outputs": [],
   "source": [
    "S = 1024\n",
    "\n",
    "config = {\n",
    "    \"experiment_name\": \"\",\n",
    "    \"wandb_run_id\": \"\",\n",
    "    # \"data_shape\": (D,),\n",
    "    \"state_size\": S+1,\n",
    "    # \"hidden_dim\": 32,\n",
    "    # \"time_embedding_dim\": 32,\n",
    "\n",
    "    \"scalar_rate\": 5.,\n",
    "    \"rate_eps\": 1e-3,\n",
    "\n",
    "    \"nll_weight\": .01,\n",
    "    \"eps\": 1e-6,\n",
    "    \"min_t\": .001,\n",
    "    \"max_t\": 1., # For debugging\n",
    "    \"max_epochs\": 2000,\n",
    "    \"batch_size\": 64,\n",
    "    \"learning_rate\": 1e-3,\n",
    "    \"seed\": Key(42),\n",
    "    \"shuffle_dataset\": True,\n",
    "    \"use_wandb\": False\n",
    "}\n",
    "# This takes a very long time for some reason.\n",
    "config[\"forward_process\"] = AbsorbingRate(config)"
   ]
  },
  {
   "cell_type": "code",
   "execution_count": 9,
   "id": "dc134f2f-2134-4a5c-87d6-59b3039ae42a",
   "metadata": {},
   "outputs": [],
   "source": [
    "# out = model.apply(init_params, jnp.ones((2, 256), dtype=int))\n",
    "# out.shape"
   ]
  },
  {
   "cell_type": "code",
   "execution_count": 10,
   "id": "b9cb466a-7478-4b59-927b-0f52c5e48a82",
   "metadata": {
    "scrolled": true
   },
   "outputs": [
    {
     "data": {
      "text/plain": [
       "{'loss': Array(0.00491229, dtype=float32),\n",
       " 'elbo': Array(82.57003, dtype=float32),\n",
       " 'nll': Array(0.00616316, dtype=float32)}"
      ]
     },
     "execution_count": 10,
     "metadata": {},
     "output_type": "execute_result"
    }
   ],
   "source": [
    "discrete_diffusion_loss_single(key_0, dummy_input, model, init_params, config)"
   ]
  },
  {
   "cell_type": "markdown",
   "id": "bbcda239-651b-406b-a78a-3d52b62ac430",
   "metadata": {},
   "source": [
    "# Get the trainer"
   ]
  },
  {
   "cell_type": "code",
   "execution_count": 24,
   "id": "edf9069f-8e64-4d9c-b2c7-86d174180176",
   "metadata": {},
   "outputs": [],
   "source": [
    "from maskgit.diffusion.losses import diffusion_batch_loss\n",
    "from maskgit.diffusion.training import Trainer, generic_params_update, linear_warmup_schedule\n",
    "from tqdm import tqdm\n",
    "import optax as opt"
   ]
  },
  {
   "cell_type": "code",
   "execution_count": 31,
   "id": "36d4c90a-16f2-4bef-83c0-5a6f470fade5",
   "metadata": {},
   "outputs": [],
   "source": [
    "def model_init(\n",
    "        key, model,\n",
    "        init_data, init_params = None,\n",
    "        config = None):\n",
    "    \"\"\"\n",
    "    Model initialization that adds a copy of the parameters to config.\n",
    "    \"\"\"\n",
    "    if init_params is None:\n",
    "        params_key, dropout_key = jr.split(key)\n",
    "        init_params = model.init({\"params\": params_key, \n",
    "                                  \"dropout\": dropout_key}, init_data[0], 0)\n",
    "    \n",
    "    lr_schedule = linear_warmup_schedule(5000, 0, config[\"learning_rate\"])\n",
    "    \n",
    "    optimizer = opt.chain(\n",
    "        opt.clip_by_global_norm(1.0),  # Clip gradients to have a global norm of at most `clip_norm`\n",
    "        opt.adam(lr_schedule),\n",
    "    )\n",
    "    # model_opt = ema(optimizer, config[\"ema_decay\"])\n",
    "    # Don't use EMA for now\n",
    "    model_opt = optimizer\n",
    "    opt_state = model_opt.init(init_params)\n",
    "    return init_params, model_opt, opt_state"
   ]
  },
  {
   "cell_type": "code",
   "execution_count": 32,
   "id": "c61d1d09-da61-49b5-818c-0e31664f9c8c",
   "metadata": {},
   "outputs": [],
   "source": [
    "# Load the dataset\n",
    "data_dir = \"/mnt/disks/persist/vq_tokens_256x256.npy\"\n",
    "dataset = jnp.load(data_dir, allow_pickle=True)"
   ]
  },
  {
   "cell_type": "code",
   "execution_count": 33,
   "id": "76ed6ce8-c8d3-4918-9404-2195c7e25255",
   "metadata": {},
   "outputs": [
    {
     "name": "stdout",
     "output_type": "stream",
     "text": [
      "(1281024, 256)\n"
     ]
    }
   ],
   "source": [
    "dataset = dataset.reshape((dataset.shape[0], -1))\n",
    "print(dataset.shape)"
   ]
  },
  {
   "cell_type": "code",
   "execution_count": null,
   "id": "5c99c9f7-9192-46f6-9649-e671ca738621",
   "metadata": {},
   "outputs": [
    {
     "name": "stderr",
     "output_type": "stream",
     "text": [
      "[jit compling...]:   0%|                                                            | 0/5006000 [05:43<?, ?it/s]\n",
      "[jit compling...]:   0%|                                                           | 0/20018000 [03:57<?, ?it/s]\n"
     ]
    }
   ],
   "source": [
    "trainer = Trainer(model, config=config, init=model_init,\n",
    "                    loss=diffusion_batch_loss, update=generic_params_update)\n",
    "tqdm._instances.clear()\n",
    "trainer.train({\"train_data\": dataset},\n",
    "                max_epochs=config[\"max_epochs\"],\n",
    "                # early_stop_start=2000,\n",
    "                # max_lose_streak=100,\n",
    "                key=config[\"seed\"])"
   ]
  },
  {
   "cell_type": "code",
   "execution_count": null,
   "id": "cf2b8def-ea06-4d02-8123-2016faeb639e",
   "metadata": {},
   "outputs": [],
   "source": []
  }
 ],
 "metadata": {
  "kernelspec": {
   "display_name": "Python (maskgit-jax)",
   "language": "python",
   "name": "maskgit-jax"
  },
  "language_info": {
   "codemirror_mode": {
    "name": "ipython",
    "version": 3
   },
   "file_extension": ".py",
   "mimetype": "text/x-python",
   "name": "python",
   "nbconvert_exporter": "python",
   "pygments_lexer": "ipython3",
   "version": "3.9.19"
  }
 },
 "nbformat": 4,
 "nbformat_minor": 5
}
